{
 "cells": [
  {
   "cell_type": "code",
   "execution_count": 1,
   "id": "c954957e",
   "metadata": {},
   "outputs": [
    {
     "name": "stdout",
     "output_type": "stream",
     "text": [
      "you and the metthod x={898, 99, 'hghj', 56, 889, 'gh'} are y=6\n"
     ]
    }
   ],
   "source": [
    "class human:\n",
    "    def __init__(self,x,y):\n",
    "        print(f\"you and the metthod {x=} are {y=}\")\n",
    "        self.x=x\n",
    "        self.y=y\n",
    "#         print(234)\n",
    "    def walk(self):\n",
    "        print(\"walking\")\n",
    "a=human({56,898,99,\"hghj\",\"gh\",889},6)\n",
    " \n",
    "        "
   ]
  },
  {
   "cell_type": "code",
   "execution_count": 6,
   "id": "f69c6f9b",
   "metadata": {},
   "outputs": [
    {
     "data": {
      "text/plain": [
       "True"
      ]
     },
     "execution_count": 6,
     "metadata": {},
     "output_type": "execute_result"
    }
   ],
   "source": [
    " import cv2\n",
    "image = cv2.imread(\"C:/Users/acer/Desktop/Untitled Folder/3.jpg\")\n",
    "grey_filter= cv2.cvtColor (image, cv2.COLOR_BGR2GRAY)\n",
    "invert = cv2.bitwise_not (grey_filter)\n",
    "blur= cv2.GaussianBlur (invert, (21,21), 0)\n",
    "invertedblur= cv2.bitwise_not (blur)\n",
    "sketch_filter= cv2.divide (grey_filter, invertedblur, scale=256.0)\n",
    "cv2.imwrite(\"output1.jpg\", sketch_filter)"
   ]
  },
  {
   "cell_type": "code",
   "execution_count": 5,
   "id": "b226ffde",
   "metadata": {},
   "outputs": [],
   "source": []
  },
  {
   "cell_type": "code",
   "execution_count": null,
   "id": "1f178bbd",
   "metadata": {},
   "outputs": [],
   "source": []
  }
 ],
 "metadata": {
  "kernelspec": {
   "display_name": "Python 3 (ipykernel)",
   "language": "python",
   "name": "python3"
  },
  "language_info": {
   "codemirror_mode": {
    "name": "ipython",
    "version": 3
   },
   "file_extension": ".py",
   "mimetype": "text/x-python",
   "name": "python",
   "nbconvert_exporter": "python",
   "pygments_lexer": "ipython3",
   "version": "3.9.7"
  }
 },
 "nbformat": 4,
 "nbformat_minor": 5
}
