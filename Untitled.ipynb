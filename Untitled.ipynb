{
 "cells": [
  {
   "cell_type": "code",
   "execution_count": 7,
   "id": "c2b366e8",
   "metadata": {},
   "outputs": [
    {
     "name": "stdout",
     "output_type": "stream",
     "text": [
      "[23, 4, 34, 62]\n",
      "[62]\n",
      "['SJKJF', 'HDSJ']\n",
      "[23, 34]\n"
     ]
    }
   ],
   "source": [
    "y=[23,4,34,62,\"SJKJF\",\"HDSJ\"]\n",
    "print(y[:4])\n",
    "print(y[3:4])\n",
    "print(y[4:])\n",
    "print(y[:4:2])"
   ]
  },
  {
   "cell_type": "code",
   "execution_count": 8,
   "id": "f3c2576d",
   "metadata": {},
   "outputs": [
    {
     "name": "stdout",
     "output_type": "stream",
     "text": [
      "['t', 'h', 'e', 'w', 'a', 'y']\n"
     ]
    }
   ],
   "source": [
    "r=[]\n",
    "for i in \"theway\":\n",
    "    r.append(i)\n",
    "print(r)    "
   ]
  },
  {
   "cell_type": "code",
   "execution_count": 11,
   "id": "1e4d288d",
   "metadata": {},
   "outputs": [
    {
     "name": "stdout",
     "output_type": "stream",
     "text": [
      "['f', 'o', 'r', 'y', 'o', 'u']\n"
     ]
    }
   ],
   "source": [
    "r=[i for i in \"foryou\"]\n",
    "print(r)"
   ]
  },
  {
   "cell_type": "code",
   "execution_count": 15,
   "id": "ae7261d5",
   "metadata": {},
   "outputs": [
    {
     "name": "stdout",
     "output_type": "stream",
     "text": [
      "['yuu', 'you']\n"
     ]
    }
   ],
   "source": [
    "t=[\"yuu\",\"jsh\",\"you\",\"ahs\",\"jag\",\"ajhdk\"]\n",
    "new=[]\n",
    "for i in t:\n",
    "    if 'y' in i:\n",
    "        new.append(i)\n",
    "print(new)        "
   ]
  },
  {
   "cell_type": "code",
   "execution_count": 16,
   "id": "9cb2f7ee",
   "metadata": {},
   "outputs": [
    {
     "name": "stdout",
     "output_type": "stream",
     "text": [
      "['yuu', 'you']\n"
     ]
    }
   ],
   "source": [
    "t=[\"yuu\",\"jsh\",\"you\",\"ahs\",\"jag\",\"ajhdk\"]\n",
    "new=[i for i in t if 'y' in i]\n",
    "print(new)"
   ]
  },
  {
   "cell_type": "code",
   "execution_count": 17,
   "id": "761741ac",
   "metadata": {},
   "outputs": [
    {
     "name": "stdout",
     "output_type": "stream",
     "text": [
      "[0, 1, 2, 3, 4, 5]\n"
     ]
    }
   ],
   "source": [
    "t=[i for i in range(6)]\n",
    "print(t)"
   ]
  },
  {
   "cell_type": "code",
   "execution_count": 19,
   "id": "961297cd",
   "metadata": {},
   "outputs": [
    {
     "name": "stdout",
     "output_type": "stream",
     "text": [
      "[0, 1, 2, 3, 4, 5, 6, 7]\n"
     ]
    }
   ],
   "source": [
    "t=[]\n",
    "for i in range(8):\n",
    "    t.append(i)\n",
    "print(t)    "
   ]
  },
  {
   "cell_type": "code",
   "execution_count": 24,
   "id": "1cbcd805",
   "metadata": {},
   "outputs": [
    {
     "name": "stdout",
     "output_type": "stream",
     "text": [
      "['AHSJ', 'AJSH', 'JXC', 'AHLF']\n"
     ]
    }
   ],
   "source": [
    "t=[\"ahsj\",\"ajsh\",\"jxc\",\"ahlf\"]\n",
    " \n",
    "    \n",
    "r=[i.upper() for i in t]   \n",
    "print(r)"
   ]
  },
  {
   "cell_type": "code",
   "execution_count": 1,
   "id": "b9be6be1",
   "metadata": {},
   "outputs": [
    {
     "name": "stdout",
     "output_type": "stream",
     "text": [
      "['your', 'your', 'your', 'your']\n"
     ]
    }
   ],
   "source": [
    "t=[\"ahsj\",\"ajsh\",\"jxc\",\"ahlf\"]\n",
    " \n",
    "n=[\"your\" for i in t] \n",
    "print(n)"
   ]
  },
  {
   "cell_type": "code",
   "execution_count": 2,
   "id": "078edc8e",
   "metadata": {},
   "outputs": [],
   "source": [
    "from turtle import *\n",
    "speed(10)\n",
    "color('cyan')\n",
    "bgcolor('black')\n",
    "b=200\n",
    "while b>0:\n",
    "    left(b)\n",
    "    forward(b*3)\n",
    "    b=b-1"
   ]
  },
  {
   "cell_type": "code",
   "execution_count": 1,
   "id": "563ab548",
   "metadata": {},
   "outputs": [
    {
     "name": "stdout",
     "output_type": "stream",
     "text": [
      "549\n"
     ]
    }
   ],
   "source": [
    "print(543+6)"
   ]
  },
  {
   "cell_type": "code",
   "execution_count": 9,
   "id": "9f9eaa25",
   "metadata": {},
   "outputs": [
    {
     "name": "stdout",
     "output_type": "stream",
     "text": [
      "['HSGDJ', 'HGZ', 'ZFJS']\n"
     ]
    }
   ],
   "source": [
    "y=[\"hsgdj\",\"hgz\",\"zfjs\" ]\n",
    "y1=[i.upper() for i in y]\n",
    "print(y1)"
   ]
  },
  {
   "cell_type": "code",
   "execution_count": 15,
   "id": "c119075b",
   "metadata": {},
   "outputs": [
    {
     "name": "stdout",
     "output_type": "stream",
     "text": [
      "[20, 170, 30, 115]\n"
     ]
    }
   ],
   "source": [
    "num=[4,34,6,23 ]\n",
    "u=[i*5 for i in num]\n",
    "print(u)"
   ]
  },
  {
   "cell_type": "code",
   "execution_count": 20,
   "id": "d9ec23b9",
   "metadata": {},
   "outputs": [
    {
     "name": "stdout",
     "output_type": "stream",
     "text": [
      "new string :45 ,42 ,89\n"
     ]
    }
   ],
   "source": [
    "py=[42,45,7,44,475,89,46,24,435]\n",
    "f=\"new string :{0} ,{1} ,{2}\".format(py[1],py[0],py[5])\n",
    "print(f)"
   ]
  },
  {
   "cell_type": "code",
   "execution_count": 22,
   "id": "9dac3c1c",
   "metadata": {},
   "outputs": [
    {
     "name": "stdout",
     "output_type": "stream",
     "text": [
      "True\n"
     ]
    }
   ],
   "source": [
    "w=\"Gjhdj KJKJD gk\"\n",
    "print(w.startswith(\"G\"))"
   ]
  },
  {
   "cell_type": "code",
   "execution_count": 24,
   "id": "6323c6d5",
   "metadata": {},
   "outputs": [
    {
     "name": "stdout",
     "output_type": "stream",
     "text": [
      "False\n"
     ]
    }
   ],
   "source": [
    "w=\"Gjhdj KJKJD gk\"\n",
    "print(w.endswith(\"G\"))"
   ]
  },
  {
   "cell_type": "code",
   "execution_count": 1,
   "id": "9dee2c09",
   "metadata": {},
   "outputs": [
    {
     "name": "stdout",
     "output_type": "stream",
     "text": [
      "2\n"
     ]
    }
   ],
   "source": [
    "print(abs(-2 ))"
   ]
  },
  {
   "cell_type": "code",
   "execution_count": null,
   "id": "cd3227e8",
   "metadata": {},
   "outputs": [],
   "source": [
    "d = {'karthi': 78, 'nia': 56, 'rony': 76,'eric': 86,'kevin': 88,'jacob': 99}\n",
    "name=input(\"Enter name    :\")\n",
    "\n",
    "print(\"mark  :\",d[name])\n"
   ]
  },
  {
   "cell_type": "code",
   "execution_count": null,
   "id": "af27f98f",
   "metadata": {},
   "outputs": [],
   "source": []
  }
 ],
 "metadata": {
  "kernelspec": {
   "display_name": "Python 3 (ipykernel)",
   "language": "python",
   "name": "python3"
  },
  "language_info": {
   "codemirror_mode": {
    "name": "ipython",
    "version": 3
   },
   "file_extension": ".py",
   "mimetype": "text/x-python",
   "name": "python",
   "nbconvert_exporter": "python",
   "pygments_lexer": "ipython3",
   "version": "3.9.7"
  }
 },
 "nbformat": 4,
 "nbformat_minor": 5
}
